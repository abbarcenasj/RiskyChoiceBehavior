{
 "cells": [
  {
   "cell_type": "markdown",
   "metadata": {},
   "source": [
    "## Individual-level Predictions"
   ]
  },
  {
   "cell_type": "code",
   "execution_count": 17,
   "metadata": {},
   "outputs": [
    {
     "data": {
      "text/plain": [
       "Index(['GameID', 'Ha', 'pHa', 'La', 'lot_shape__A', 'lot_shape_symm_A',\n",
       "       'lot_shape_L_A', 'lot_shape_R_A', 'LotNumA', 'Hb', 'pHb', 'Lb',\n",
       "       'lot_shape__A.1', 'lot_shape_symm_A.1', 'lot_shape_L_A.1',\n",
       "       'lot_shape_R_A.1', 'LotNumB', 'Amb', 'Corr', 'diffEV', 'diffSDs',\n",
       "       'diffMins', 'diffMaxs', 'diffUV', 'RatioMin', 'SignMax',\n",
       "       'pBbet_Unbiased1', 'pBbet_UnbiasedFB', 'pBbet_Uniform', 'pBbet_Sign1',\n",
       "       'pBbet_SignFB', 'Dom', 'diffBEV0', 'diffBEVfb', 'diffSignEV',\n",
       "       'BEASTpred', 'block', 'Feedback', 'B_rate'],\n",
       "      dtype='object')"
      ]
     },
     "execution_count": 17,
     "metadata": {},
     "output_type": "execute_result"
    }
   ],
   "source": [
    "TrainData210 = pd.read_csv('TrainData210.csv')\n",
    "TrainData210.columns"
   ]
  },
  {
   "cell_type": "code",
   "execution_count": 26,
   "metadata": {},
   "outputs": [
    {
     "data": {
      "text/html": [
       "<div>\n",
       "<style scoped>\n",
       "    .dataframe tbody tr th:only-of-type {\n",
       "        vertical-align: middle;\n",
       "    }\n",
       "\n",
       "    .dataframe tbody tr th {\n",
       "        vertical-align: top;\n",
       "    }\n",
       "\n",
       "    .dataframe thead th {\n",
       "        text-align: right;\n",
       "    }\n",
       "</style>\n",
       "<table border=\"1\" class=\"dataframe\">\n",
       "  <thead>\n",
       "    <tr style=\"text-align: right;\">\n",
       "      <th></th>\n",
       "      <th>GameID</th>\n",
       "      <th>diffEV</th>\n",
       "      <th>diffSDs</th>\n",
       "      <th>diffMins</th>\n",
       "      <th>diffMaxs</th>\n",
       "      <th>diffUV</th>\n",
       "      <th>RatioMin</th>\n",
       "      <th>SignMax</th>\n",
       "      <th>pBbet_Unbiased1</th>\n",
       "      <th>pBbet_UnbiasedFB</th>\n",
       "      <th>pBbet_Uniform</th>\n",
       "      <th>pBbet_Sign1</th>\n",
       "      <th>pBbet_SignFB</th>\n",
       "      <th>Dom</th>\n",
       "      <th>diffBEV0</th>\n",
       "      <th>diffBEVfb</th>\n",
       "      <th>diffSignEV</th>\n",
       "    </tr>\n",
       "  </thead>\n",
       "  <tbody>\n",
       "    <tr>\n",
       "      <td>0</td>\n",
       "      <td>1</td>\n",
       "      <td>0.20</td>\n",
       "      <td>1.600000</td>\n",
       "      <td>-3</td>\n",
       "      <td>1</td>\n",
       "      <td>-1.0</td>\n",
       "      <td>0.00</td>\n",
       "      <td>1</td>\n",
       "      <td>0.5970</td>\n",
       "      <td>0.5936</td>\n",
       "      <td>-0.0006</td>\n",
       "      <td>-0.2015</td>\n",
       "      <td>-0.2032</td>\n",
       "      <td>0</td>\n",
       "      <td>0.20</td>\n",
       "      <td>0.20</td>\n",
       "      <td>-0.8</td>\n",
       "    </tr>\n",
       "    <tr>\n",
       "      <td>5</td>\n",
       "      <td>2</td>\n",
       "      <td>0.05</td>\n",
       "      <td>0.300962</td>\n",
       "      <td>0</td>\n",
       "      <td>1</td>\n",
       "      <td>0.5</td>\n",
       "      <td>1.00</td>\n",
       "      <td>1</td>\n",
       "      <td>0.1477</td>\n",
       "      <td>-0.0077</td>\n",
       "      <td>0.4997</td>\n",
       "      <td>-0.0514</td>\n",
       "      <td>-0.0567</td>\n",
       "      <td>0</td>\n",
       "      <td>0.05</td>\n",
       "      <td>0.05</td>\n",
       "      <td>-0.2</td>\n",
       "    </tr>\n",
       "    <tr>\n",
       "      <td>10</td>\n",
       "      <td>3</td>\n",
       "      <td>0.00</td>\n",
       "      <td>1.000000</td>\n",
       "      <td>-1</td>\n",
       "      <td>1</td>\n",
       "      <td>0.0</td>\n",
       "      <td>0.50</td>\n",
       "      <td>0</td>\n",
       "      <td>0.0026</td>\n",
       "      <td>0.0054</td>\n",
       "      <td>0.0026</td>\n",
       "      <td>0.5013</td>\n",
       "      <td>0.5027</td>\n",
       "      <td>0</td>\n",
       "      <td>0.00</td>\n",
       "      <td>0.00</td>\n",
       "      <td>1.0</td>\n",
       "    </tr>\n",
       "    <tr>\n",
       "      <td>15</td>\n",
       "      <td>4</td>\n",
       "      <td>0.00</td>\n",
       "      <td>1.000000</td>\n",
       "      <td>-1</td>\n",
       "      <td>1</td>\n",
       "      <td>0.0</td>\n",
       "      <td>0.00</td>\n",
       "      <td>1</td>\n",
       "      <td>0.0080</td>\n",
       "      <td>-0.0190</td>\n",
       "      <td>0.0080</td>\n",
       "      <td>-0.4960</td>\n",
       "      <td>-0.5095</td>\n",
       "      <td>0</td>\n",
       "      <td>0.00</td>\n",
       "      <td>0.00</td>\n",
       "      <td>-1.0</td>\n",
       "    </tr>\n",
       "    <tr>\n",
       "      <td>20</td>\n",
       "      <td>5</td>\n",
       "      <td>-0.20</td>\n",
       "      <td>1.600000</td>\n",
       "      <td>-1</td>\n",
       "      <td>3</td>\n",
       "      <td>1.0</td>\n",
       "      <td>0.75</td>\n",
       "      <td>0</td>\n",
       "      <td>-0.6044</td>\n",
       "      <td>-0.6046</td>\n",
       "      <td>0.0092</td>\n",
       "      <td>0.1978</td>\n",
       "      <td>0.1977</td>\n",
       "      <td>0</td>\n",
       "      <td>-0.20</td>\n",
       "      <td>-0.20</td>\n",
       "      <td>0.8</td>\n",
       "    </tr>\n",
       "  </tbody>\n",
       "</table>\n",
       "</div>"
      ],
      "text/plain": [
       "    GameID  diffEV   diffSDs  diffMins  diffMaxs  diffUV  RatioMin  SignMax  \\\n",
       "0        1    0.20  1.600000        -3         1    -1.0      0.00        1   \n",
       "5        2    0.05  0.300962         0         1     0.5      1.00        1   \n",
       "10       3    0.00  1.000000        -1         1     0.0      0.50        0   \n",
       "15       4    0.00  1.000000        -1         1     0.0      0.00        1   \n",
       "20       5   -0.20  1.600000        -1         3     1.0      0.75        0   \n",
       "\n",
       "    pBbet_Unbiased1  pBbet_UnbiasedFB  pBbet_Uniform  pBbet_Sign1  \\\n",
       "0            0.5970            0.5936        -0.0006      -0.2015   \n",
       "5            0.1477           -0.0077         0.4997      -0.0514   \n",
       "10           0.0026            0.0054         0.0026       0.5013   \n",
       "15           0.0080           -0.0190         0.0080      -0.4960   \n",
       "20          -0.6044           -0.6046         0.0092       0.1978   \n",
       "\n",
       "    pBbet_SignFB  Dom  diffBEV0  diffBEVfb  diffSignEV  \n",
       "0        -0.2032    0      0.20       0.20        -0.8  \n",
       "5        -0.0567    0      0.05       0.05        -0.2  \n",
       "10        0.5027    0      0.00       0.00         1.0  \n",
       "15       -0.5095    0      0.00       0.00        -1.0  \n",
       "20        0.1977    0     -0.20      -0.20         0.8  "
      ]
     },
     "execution_count": 26,
     "metadata": {},
     "output_type": "execute_result"
    }
   ],
   "source": [
    "psychological_features = pd.DataFrame(TrainData210[['GameID', 'diffEV', 'diffSDs',\n",
    "       'diffMins', 'diffMaxs', 'diffUV', 'RatioMin', 'SignMax',\n",
    "       'pBbet_Unbiased1', 'pBbet_UnbiasedFB', 'pBbet_Uniform', 'pBbet_Sign1',\n",
    "       'pBbet_SignFB', 'Dom', 'diffBEV0', 'diffBEVfb', 'diffSignEV']])\n",
    "psychological_features = psychological_features.drop_duplicates()\n",
    "psychological_features.head()"
   ]
  },
  {
   "cell_type": "code",
   "execution_count": 2,
   "metadata": {},
   "outputs": [
    {
     "name": "stdout",
     "output_type": "stream",
     "text": [
      "Raw data shape:  (3750, 30)\n",
      "Avg data shape:  (102150, 38)\n"
     ]
    }
   ],
   "source": [
    "individual_raw = pd.read_csv(\"raw-comp-set-data-Track-2.csv\")\n",
    "individual_block_avgs = pd.read_csv(\"individualBlockAvgs.csv\")\n",
    "print('Raw data shape: ', individual_raw.shape)\n",
    "print('Avg data shape: ', individual_block_avgs.shape)"
   ]
  },
  {
   "cell_type": "code",
   "execution_count": 27,
   "metadata": {},
   "outputs": [
    {
     "data": {
      "text/plain": [
       "Index(['SubjID', 'Location', 'Gender', 'Age', 'Order', 'GameID', 'Ha', 'pHa',\n",
       "       'La', 'LotShapeA', 'LotNumA', 'Hb', 'pHb', 'Lb', 'LotShapeB', 'LotNumB',\n",
       "       'Amb', 'Corr', 'block', 'Feedback', 'Dom', 'diffUV', 'RatioMin',\n",
       "       'SignMax', 'pBbet_Unbiased1', 'pBbet_UnbiasedFB', 'pBbet_Uniform',\n",
       "       'pBbet_Sign1', 'pBbet_SignFB', 'diffBEV0', 'diffBEVfb', 'diffMins',\n",
       "       'diffSignEV', 'diffEV', 'diffMaxs', 'diffSDs', 'B', 'BEAST_blkPred'],\n",
       "      dtype='object')"
      ]
     },
     "execution_count": 27,
     "metadata": {},
     "output_type": "execute_result"
    }
   ],
   "source": [
    "individual_block_avgs.columns"
   ]
  },
  {
   "cell_type": "code",
   "execution_count": 3,
   "metadata": {},
   "outputs": [
    {
     "name": "stdout",
     "output_type": "stream",
     "text": [
      "Unique SubjID in raw data:  (30,)\n",
      "Unique SubjID in avg data:  (686,)\n"
     ]
    }
   ],
   "source": [
    "print('Unique SubjID in raw data: ', individual_raw.SubjID.unique().shape)\n",
    "print('Unique SubjID in avg data: ', individual_block_avgs.SubjID.unique().shape)"
   ]
  },
  {
   "cell_type": "code",
   "execution_count": 4,
   "metadata": {},
   "outputs": [
    {
     "name": "stdout",
     "output_type": "stream",
     "text": [
      "Rows/cols per SubjID in raw data:  (125, 30)\n",
      "Rows/cols per SubjID in avg data:  (125, 38)\n",
      "Unique GameID per SubjID in raw data:  (5,)\n",
      "Unique GameID per SubjID in avg data:  (25,)\n"
     ]
    }
   ],
   "source": [
    "print('Rows/cols per SubjID in raw data: ', individual_raw[(individual_raw.SubjID == 60004)].shape)\n",
    "print('Rows/cols per SubjID in avg data: ', individual_block_avgs[(individual_block_avgs.SubjID == 60004)].shape)\n",
    "\n",
    "print('Unique GameID per SubjID in raw data: ', individual_raw[(individual_raw.SubjID == 60004)]['GameID'].unique().shape)\n",
    "print('Unique GameID per SubjID in avg data: ', individual_block_avgs[(individual_block_avgs.SubjID == 60004)]['GameID'].unique().shape)"
   ]
  },
  {
   "cell_type": "markdown",
   "metadata": {},
   "source": [
    "> Raw data includes the decision on each single game (B is either 0 or 1), but includes info from only 5 games. Avg data incldes the avg decision on each block (B is continous from 0 to 1) and includes the B rates from 25 games."
   ]
  },
  {
   "cell_type": "code",
   "execution_count": 89,
   "metadata": {},
   "outputs": [],
   "source": [
    "test = pd.DataFrame()\n",
    "data = individual_block_avgs[['SubjID', 'Location', 'Gender', 'Age', 'Order', 'GameID', 'Ha', 'pHa',\n",
    "       'La', 'LotShapeA', 'LotNumA', 'Hb', 'pHb', 'Lb', 'LotShapeB', 'LotNumB',\n",
    "       'Amb', 'Corr', 'block', 'Feedback', 'Dom', 'diffUV', 'RatioMin',\n",
    "       'SignMax', 'pBbet_Unbiased1', 'pBbet_UnbiasedFB', 'pBbet_Uniform',\n",
    "       'pBbet_Sign1', 'pBbet_SignFB', 'diffBEV0', 'diffBEVfb', 'diffMins',\n",
    "       'diffSignEV', 'diffEV', 'diffMaxs', 'diffSDs', 'B', 'BEAST_blkPred']]\n",
    "train = data\n",
    "test_game = 6"
   ]
  },
  {
   "cell_type": "code",
   "execution_count": 93,
   "metadata": {},
   "outputs": [],
   "source": [
    "subject_ids = data.SubjID.unique()\n",
    "subject_idx = data.SubjID.values\n",
    "for i in range(subject_ids.shape[0]):\n",
    "    #print('i: {}'.format(i))\n",
    "    game_ids = data.loc[data.SubjID == subject_ids[i]].GameID.unique()\n",
    "    game2remove = np.random.choice(game_ids, test_game, replace=False)\n",
    "    #print('game2remove: {}'.format(game2remove))\n",
    "    for j in range(test_game):\n",
    "        test = pd.concat([test, data.loc[((data['SubjID'] == subject_ids[i]) & (data['GameID'] == game2remove[j]))]])\n",
    "        #print('test size: {}'.format(test.shape[0]))\n",
    "        train.drop(train[(train['SubjID'] == subject_ids[i]) & (train['GameID'] == game2remove[j])].index, axis = 0, inplace=True)\n",
    "        #print('train size: {}'.format(train.shape[0]))"
   ]
  },
  {
   "cell_type": "code",
   "execution_count": 95,
   "metadata": {},
   "outputs": [],
   "source": [
    "mapping = {'Symm': 1, 'R-skew': 2, 'L-skew': 3, '-': 4, 'nan': 0}\n",
    "train = train.replace({'LotShapeA': mapping, 'LotShapeB': mapping})\n",
    "test = test.replace({'LotShapeA': mapping, 'LotShapeB': mapping})"
   ]
  },
  {
   "cell_type": "code",
   "execution_count": 96,
   "metadata": {},
   "outputs": [],
   "source": [
    "mapping = {'F': 1, 'M': 0}\n",
    "train = train.replace({'Gender': mapping})\n",
    "test = test.replace({'Gender': mapping})"
   ]
  },
  {
   "cell_type": "code",
   "execution_count": 97,
   "metadata": {},
   "outputs": [],
   "source": [
    "mapping = {'Technion': 1, 'Rehovot': 0}\n",
    "train = train.replace({'Location': mapping})\n",
    "test = test.replace({'Location': mapping})"
   ]
  },
  {
   "cell_type": "markdown",
   "metadata": {},
   "source": [
    "### Function to evaluate performance"
   ]
  },
  {
   "cell_type": "markdown",
   "metadata": {},
   "source": [
    "Taken from CPC18 source code."
   ]
  },
  {
   "cell_type": "code",
   "execution_count": 33,
   "metadata": {},
   "outputs": [],
   "source": [
    "# A function used to evaluate predictive performance\n",
    "def my_evaluate(y, y_hat, do_MSE=True, do_cor=True, do_plot=True):\n",
    "    rmse = None\n",
    "    cor_yy = None\n",
    "    if do_MSE:\n",
    "        rmse = math.sqrt(mean_squared_error(y, y_hat))\n",
    "        print('RMSE is {}'.format(rmse))\n",
    "\n",
    "    if do_cor:\n",
    "        cor_yy = pearsonr(y, y_hat)[0]\n",
    "        print('correlation is {}'.format(cor_yy))\n",
    "\n",
    "    if do_plot:\n",
    "        fit = np.polyfit(y_hat, y, deg=1)\n",
    "        plt.plot(y_hat, fit[0] * y_hat + fit[1], color='black')\n",
    "        plt.scatter(y_hat, y, color='black')\n",
    "        y = range(2)\n",
    "        plt.plot(y, '--',color='red')\n",
    "        plt.show()\n",
    "\n",
    "    return rmse, cor_yy"
   ]
  },
  {
   "cell_type": "code",
   "execution_count": 34,
   "metadata": {},
   "outputs": [],
   "source": [
    "# Transform outputs to be consistent with maximization (i.e., not minimization)\n",
    "def pBpMaxTransform(orig_vec, is_b_max):\n",
    "    orig_vec.name = 'B'\n",
    "    new_vec = pd.concat([orig_vec, is_b_max], axis=1)\n",
    "    new_vec.loc[new_vec['isBMax'] == False, 'B'] = 1 - new_vec['B']\n",
    "    return new_vec['B']"
   ]
  },
  {
   "cell_type": "markdown",
   "metadata": {},
   "source": [
    "### Naive Model"
   ]
  },
  {
   "cell_type": "markdown",
   "metadata": {},
   "source": [
    "Taken from CPC18 track II baseline model code."
   ]
  },
  {
   "cell_type": "code",
   "execution_count": 35,
   "metadata": {},
   "outputs": [
    {
     "name": "stdout",
     "output_type": "stream",
     "text": [
      "RMSE is 0.31720176793040944\n",
      "correlation is 0.5396985293031049\n"
     ]
    },
    {
     "data": {
      "image/png": "[encoded data removed]",
      "text/plain": [
       "<Figure size 432x288 with 1 Axes>"
      ]
     },
     "metadata": {},
     "output_type": "display_data"
    },
    {
     "data": {
      "text/plain": [
       "(0.31720176793040944, 0.5396985293031049)"
      ]
     },
     "execution_count": 35,
     "metadata": {},
     "output_type": "execute_result"
    }
   ],
   "source": [
    "is_b_max = individual_block_avgs['diffEV'] >= 0\n",
    "is_b_max.name = 'isBMax'\n",
    "individual_block_avgs['B'] = pBpMaxTransform(individual_block_avgs['B'], is_b_max)\n",
    "\n",
    "    # keep only relevant data\n",
    "data = individual_block_avgs[['SubjID', 'GameID', 'block', 'B']]\n",
    "data = data.assign(isBMax = is_b_max.values)\n",
    "   # data['isBMax'] = is_b_max.values\n",
    "\n",
    "    # split data to train_data and test #\n",
    "new_data = data.loc[data.SubjID >= 60000]\n",
    "train_data, test_data = splitLongData(new_data, seed=1)\n",
    "train_data = pd.concat([train_data, data.loc[data.SubjID < 60000]], ignore_index=True)\n",
    "\n",
    "########################\n",
    "# Naive baseline: avgs #\n",
    "########################\n",
    "avg_bin_train = train_data.groupby(['GameID', 'block']).mean()['B'].reset_index()\n",
    "test_with_preds = test_data.merge(avg_bin_train, on=['GameID', 'block'])\n",
    "my_evaluate(pBpMaxTransform(test_with_preds['B_x'], test_with_preds['isBMax']),\n",
    "            pBpMaxTransform(test_with_preds['B_y'], test_with_preds['isBMax']))"
   ]
  },
  {
   "cell_type": "markdown",
   "metadata": {},
   "source": [
    "### Fixed effects\n",
    "Aka linear models with controls for group variables, block number in this case."
   ]
  },
  {
   "cell_type": "markdown",
   "metadata": {},
   "source": [
    "### 1. First approach to FE"
   ]
  },
  {
   "cell_type": "code",
   "execution_count": 71,
   "metadata": {},
   "outputs": [
    {
     "data": {
      "text/plain": [
       "Index(['SubjID', 'Location', 'Gender', 'Age', 'Order', 'GameID', 'Ha', 'pHa',\n",
       "       'La', 'LotShapeA', 'LotNumA', 'Hb', 'pHb', 'Lb', 'LotShapeB', 'LotNumB',\n",
       "       'Amb', 'Corr', 'block', 'Feedback', 'Dom', 'diffUV', 'RatioMin',\n",
       "       'SignMax', 'pBbet_Unbiased1', 'pBbet_UnbiasedFB', 'pBbet_Uniform',\n",
       "       'pBbet_Sign1', 'pBbet_SignFB', 'diffBEV0', 'diffBEVfb', 'diffMins',\n",
       "       'diffSignEV', 'diffEV', 'diffMaxs', 'diffSDs', 'B', 'BEAST_blkPred'],\n",
       "      dtype='object')"
      ]
     },
     "execution_count": 71,
     "metadata": {},
     "output_type": "execute_result"
    }
   ],
   "source": [
    "train.columns"
   ]
  },
  {
   "cell_type": "code",
   "execution_count": 98,
   "metadata": {},
   "outputs": [],
   "source": [
    "# normalize the data attributes\n",
    "min_max_scaler = preprocessing.MinMaxScaler()\n",
    "\n",
    "train_norm_2 = min_max_scaler.fit_transform(train)\n",
    "test_norm_2 = min_max_scaler.fit_transform(test)"
   ]
  },
  {
   "cell_type": "code",
   "execution_count": 105,
   "metadata": {},
   "outputs": [],
   "source": [
    "train_norm_2 = pd.DataFrame(train_norm_2)\n",
    "test_norm_2 = pd.DataFrame(test_norm_2)"
   ]
  },
  {
   "cell_type": "code",
   "execution_count": 106,
   "metadata": {},
   "outputs": [],
   "source": [
    "train_norm_2.columns = ['SubjID', 'Location', 'Gender', 'Age', 'Order', 'GameID', 'Ha', 'pHa',\n",
    "       'La', 'LotShapeA', 'LotNumA', 'Hb', 'pHb', 'Lb', 'LotShapeB', 'LotNumB',\n",
    "       'Amb', 'Corr', 'block', 'Feedback', 'Dom', 'diffUV', 'RatioMin',\n",
    "       'SignMax', 'pBbet_Unbiased1', 'pBbet_UnbiasedFB', 'pBbet_Uniform',\n",
    "       'pBbet_Sign1', 'pBbet_SignFB', 'diffBEV0', 'diffBEVfb', 'diffMins',\n",
    "       'diffSignEV', 'diffEV', 'diffMaxs', 'diffSDs', 'B', 'BEAST_blkPred']\n",
    "\n",
    "test_norm_2.columns = ['SubjID', 'Location', 'Gender', 'Age', 'Order', 'GameID', 'Ha', 'pHa',\n",
    "       'La', 'LotShapeA', 'LotNumA', 'Hb', 'pHb', 'Lb', 'LotShapeB', 'LotNumB',\n",
    "       'Amb', 'Corr', 'block', 'Feedback', 'Dom', 'diffUV', 'RatioMin',\n",
    "       'SignMax', 'pBbet_Unbiased1', 'pBbet_UnbiasedFB', 'pBbet_Uniform',\n",
    "       'pBbet_Sign1', 'pBbet_SignFB', 'diffBEV0', 'diffBEVfb', 'diffMins',\n",
    "       'diffSignEV', 'diffEV', 'diffMaxs', 'diffSDs', 'B', 'BEAST_blkPred']"
   ]
  },
  {
   "cell_type": "code",
   "execution_count": 107,
   "metadata": {},
   "outputs": [
    {
     "data": {
      "text/html": [
       "<div>\n",
       "<style scoped>\n",
       "    .dataframe tbody tr th:only-of-type {\n",
       "        vertical-align: middle;\n",
       "    }\n",
       "\n",
       "    .dataframe tbody tr th {\n",
       "        vertical-align: top;\n",
       "    }\n",
       "\n",
       "    .dataframe thead th {\n",
       "        text-align: right;\n",
       "    }\n",
       "</style>\n",
       "<table border=\"1\" class=\"dataframe\">\n",
       "  <thead>\n",
       "    <tr style=\"text-align: right;\">\n",
       "      <th></th>\n",
       "      <th>SubjID</th>\n",
       "      <th>Location</th>\n",
       "      <th>Gender</th>\n",
       "      <th>Age</th>\n",
       "      <th>Order</th>\n",
       "      <th>GameID</th>\n",
       "      <th>Ha</th>\n",
       "      <th>pHa</th>\n",
       "      <th>La</th>\n",
       "      <th>LotShapeA</th>\n",
       "      <th>...</th>\n",
       "      <th>pBbet_SignFB</th>\n",
       "      <th>diffBEV0</th>\n",
       "      <th>diffBEVfb</th>\n",
       "      <th>diffMins</th>\n",
       "      <th>diffSignEV</th>\n",
       "      <th>diffEV</th>\n",
       "      <th>diffMaxs</th>\n",
       "      <th>diffSDs</th>\n",
       "      <th>B</th>\n",
       "      <th>BEAST_blkPred</th>\n",
       "    </tr>\n",
       "  </thead>\n",
       "  <tbody>\n",
       "    <tr>\n",
       "      <td>0</td>\n",
       "      <td>0.834844</td>\n",
       "      <td>1.0</td>\n",
       "      <td>1.0</td>\n",
       "      <td>0.315789</td>\n",
       "      <td>0.0</td>\n",
       "      <td>0.822967</td>\n",
       "      <td>0.814159</td>\n",
       "      <td>0.494949</td>\n",
       "      <td>0.181818</td>\n",
       "      <td>0.0</td>\n",
       "      <td>...</td>\n",
       "      <td>0.74975</td>\n",
       "      <td>0.633456</td>\n",
       "      <td>0.454545</td>\n",
       "      <td>1.0</td>\n",
       "      <td>0.912814</td>\n",
       "      <td>0.416404</td>\n",
       "      <td>0.156164</td>\n",
       "      <td>0.0</td>\n",
       "      <td>0.8</td>\n",
       "      <td>0.605</td>\n",
       "    </tr>\n",
       "    <tr>\n",
       "      <td>1</td>\n",
       "      <td>0.818617</td>\n",
       "      <td>0.0</td>\n",
       "      <td>1.0</td>\n",
       "      <td>0.315789</td>\n",
       "      <td>0.0</td>\n",
       "      <td>0.822967</td>\n",
       "      <td>0.814159</td>\n",
       "      <td>0.494949</td>\n",
       "      <td>0.181818</td>\n",
       "      <td>0.0</td>\n",
       "      <td>...</td>\n",
       "      <td>0.74975</td>\n",
       "      <td>0.633456</td>\n",
       "      <td>0.454545</td>\n",
       "      <td>1.0</td>\n",
       "      <td>0.912814</td>\n",
       "      <td>0.416404</td>\n",
       "      <td>0.156164</td>\n",
       "      <td>0.0</td>\n",
       "      <td>0.6</td>\n",
       "      <td>0.605</td>\n",
       "    </tr>\n",
       "  </tbody>\n",
       "</table>\n",
       "<p>2 rows × 38 columns</p>\n",
       "</div>"
      ],
      "text/plain": [
       "     SubjID  Location  Gender       Age  Order    GameID        Ha       pHa  \\\n",
       "0  0.834844       1.0     1.0  0.315789    0.0  0.822967  0.814159  0.494949   \n",
       "1  0.818617       0.0     1.0  0.315789    0.0  0.822967  0.814159  0.494949   \n",
       "\n",
       "         La  LotShapeA  ...  pBbet_SignFB  diffBEV0  diffBEVfb  diffMins  \\\n",
       "0  0.181818        0.0  ...       0.74975  0.633456   0.454545       1.0   \n",
       "1  0.181818        0.0  ...       0.74975  0.633456   0.454545       1.0   \n",
       "\n",
       "   diffSignEV    diffEV  diffMaxs  diffSDs    B  BEAST_blkPred  \n",
       "0    0.912814  0.416404  0.156164      0.0  0.8          0.605  \n",
       "1    0.912814  0.416404  0.156164      0.0  0.6          0.605  \n",
       "\n",
       "[2 rows x 38 columns]"
      ]
     },
     "execution_count": 107,
     "metadata": {},
     "output_type": "execute_result"
    }
   ],
   "source": [
    "train_norm_2.head(2)"
   ]
  },
  {
   "cell_type": "code",
   "execution_count": 108,
   "metadata": {},
   "outputs": [],
   "source": [
    "import statsmodels.formula.api as smf\n",
    "linear_1 = smf.ols('B ~  + C(Gender) + Age + Ha + pHa + La + LotNumA + pHb + Lb + C(LotShapeB) + C(Amb) + C(Corr) + C(Feedback) + C(Dom) + RatioMin + SignMax + pBbet_Unbiased1 + pBbet_UnbiasedFB + pBbet_Uniform + pBbet_Sign1 + pBbet_SignFB + diffBEV0 + diffBEVfb + diffMins + diffSignEV + diffEV + diffMaxs + diffSDs + C(block)', \n",
    "        train_norm_2).fit()\n"
   ]
  },
  {
   "cell_type": "code",
   "execution_count": 109,
   "metadata": {},
   "outputs": [
    {
     "data": {
      "text/html": [
       "<table class=\"simpletable\">\n",
       "<caption>OLS Regression Results</caption>\n",
       "<tr>\n",
       "  <th>Dep. Variable:</th>            <td>B</td>        <th>  R-squared:         </th> <td>   0.313</td> \n",
       "</tr>\n",
       "<tr>\n",
       "  <th>Model:</th>                   <td>OLS</td>       <th>  Adj. R-squared:    </th> <td>   0.313</td> \n",
       "</tr>\n",
       "<tr>\n",
       "  <th>Method:</th>             <td>Least Squares</td>  <th>  F-statistic:       </th> <td>   1093.</td> \n",
       "</tr>\n",
       "<tr>\n",
       "  <th>Date:</th>             <td>Thu, 02 Apr 2020</td> <th>  Prob (F-statistic):</th>  <td>  0.00</td>  \n",
       "</tr>\n",
       "<tr>\n",
       "  <th>Time:</th>                 <td>20:13:45</td>     <th>  Log-Likelihood:    </th> <td> -30634.</td> \n",
       "</tr>\n",
       "<tr>\n",
       "  <th>No. Observations:</th>      <td> 81570</td>      <th>  AIC:               </th> <td>6.134e+04</td>\n",
       "</tr>\n",
       "<tr>\n",
       "  <th>Df Residuals:</th>          <td> 81535</td>      <th>  BIC:               </th> <td>6.166e+04</td>\n",
       "</tr>\n",
       "<tr>\n",
       "  <th>Df Model:</th>              <td>    34</td>      <th>                     </th>     <td> </td>    \n",
       "</tr>\n",
       "<tr>\n",
       "  <th>Covariance Type:</th>      <td>nonrobust</td>    <th>                     </th>     <td> </td>    \n",
       "</tr>\n",
       "</table>\n",
       "<table class=\"simpletable\">\n",
       "<tr>\n",
       "                   <td></td>                     <th>coef</th>     <th>std err</th>      <th>t</th>      <th>P>|t|</th>  <th>[0.025</th>    <th>0.975]</th>  \n",
       "</tr>\n",
       "<tr>\n",
       "  <th>Intercept</th>                          <td>-1.006e+08</td> <td> 2.11e+07</td> <td>   -4.776</td> <td> 0.000</td> <td>-1.42e+08</td> <td>-5.93e+07</td>\n",
       "</tr>\n",
       "<tr>\n",
       "  <th>C(Gender)[T.1.0]</th>                   <td>    0.0008</td> <td>    0.003</td> <td>    0.297</td> <td> 0.767</td> <td>   -0.004</td> <td>    0.006</td>\n",
       "</tr>\n",
       "<tr>\n",
       "  <th>C(LotShapeB)[T.0.3333333333333333]</th> <td>   -0.0161</td> <td>    0.007</td> <td>   -2.451</td> <td> 0.014</td> <td>   -0.029</td> <td>   -0.003</td>\n",
       "</tr>\n",
       "<tr>\n",
       "  <th>C(LotShapeB)[T.0.6666666666666667]</th> <td>   -0.0176</td> <td>    0.006</td> <td>   -3.137</td> <td> 0.002</td> <td>   -0.029</td> <td>   -0.007</td>\n",
       "</tr>\n",
       "<tr>\n",
       "  <th>C(LotShapeB)[T.1.0]</th>                <td>   -0.0081</td> <td>    0.004</td> <td>   -2.175</td> <td> 0.030</td> <td>   -0.015</td> <td>   -0.001</td>\n",
       "</tr>\n",
       "<tr>\n",
       "  <th>C(Amb)[T.1.0]</th>                      <td>    0.0857</td> <td>    0.005</td> <td>   17.452</td> <td> 0.000</td> <td>    0.076</td> <td>    0.095</td>\n",
       "</tr>\n",
       "<tr>\n",
       "  <th>C(Corr)[T.0.5]</th>                     <td>   -0.0032</td> <td>    0.007</td> <td>   -0.459</td> <td> 0.646</td> <td>   -0.017</td> <td>    0.010</td>\n",
       "</tr>\n",
       "<tr>\n",
       "  <th>C(Corr)[T.1.0]</th>                     <td>   -0.0073</td> <td>    0.010</td> <td>   -0.715</td> <td> 0.474</td> <td>   -0.027</td> <td>    0.013</td>\n",
       "</tr>\n",
       "<tr>\n",
       "  <th>C(Feedback)[T.1.0]</th>                 <td>   24.0860</td> <td>    5.041</td> <td>    4.778</td> <td> 0.000</td> <td>   14.206</td> <td>   33.966</td>\n",
       "</tr>\n",
       "<tr>\n",
       "  <th>C(Dom)[T.0.5]</th>                      <td>    0.1189</td> <td>    0.008</td> <td>   14.901</td> <td> 0.000</td> <td>    0.103</td> <td>    0.134</td>\n",
       "</tr>\n",
       "<tr>\n",
       "  <th>C(Dom)[T.1.0]</th>                      <td>    0.2894</td> <td>    0.012</td> <td>   23.807</td> <td> 0.000</td> <td>    0.266</td> <td>    0.313</td>\n",
       "</tr>\n",
       "<tr>\n",
       "  <th>C(block)[T.0.25]</th>                   <td>  -24.0688</td> <td>    5.041</td> <td>   -4.775</td> <td> 0.000</td> <td>  -33.949</td> <td>  -14.189</td>\n",
       "</tr>\n",
       "<tr>\n",
       "  <th>C(block)[T.0.5]</th>                    <td>  -24.0690</td> <td>    5.041</td> <td>   -4.775</td> <td> 0.000</td> <td>  -33.949</td> <td>  -14.189</td>\n",
       "</tr>\n",
       "<tr>\n",
       "  <th>C(block)[T.0.75]</th>                   <td>  -24.0789</td> <td>    5.041</td> <td>   -4.777</td> <td> 0.000</td> <td>  -33.959</td> <td>  -14.199</td>\n",
       "</tr>\n",
       "<tr>\n",
       "  <th>C(block)[T.1.0]</th>                    <td>  -24.0837</td> <td>    5.041</td> <td>   -4.778</td> <td> 0.000</td> <td>  -33.964</td> <td>  -14.204</td>\n",
       "</tr>\n",
       "<tr>\n",
       "  <th>Age</th>                                <td>    0.0147</td> <td>    0.008</td> <td>    1.763</td> <td> 0.078</td> <td>   -0.002</td> <td>    0.031</td>\n",
       "</tr>\n",
       "<tr>\n",
       "  <th>Ha</th>                                 <td>    0.0660</td> <td>    0.010</td> <td>    6.446</td> <td> 0.000</td> <td>    0.046</td> <td>    0.086</td>\n",
       "</tr>\n",
       "<tr>\n",
       "  <th>pHa</th>                                <td>   -0.0011</td> <td>    0.006</td> <td>   -0.186</td> <td> 0.852</td> <td>   -0.012</td> <td>    0.010</td>\n",
       "</tr>\n",
       "<tr>\n",
       "  <th>La</th>                                 <td>    0.1049</td> <td>    0.025</td> <td>    4.174</td> <td> 0.000</td> <td>    0.056</td> <td>    0.154</td>\n",
       "</tr>\n",
       "<tr>\n",
       "  <th>LotNumA</th>                            <td>   -0.0321</td> <td>    0.007</td> <td>   -4.489</td> <td> 0.000</td> <td>   -0.046</td> <td>   -0.018</td>\n",
       "</tr>\n",
       "<tr>\n",
       "  <th>pHb</th>                                <td>   -0.0291</td> <td>    0.006</td> <td>   -5.269</td> <td> 0.000</td> <td>   -0.040</td> <td>   -0.018</td>\n",
       "</tr>\n",
       "<tr>\n",
       "  <th>Lb</th>                                 <td>   -0.1573</td> <td>    0.027</td> <td>   -5.785</td> <td> 0.000</td> <td>   -0.211</td> <td>   -0.104</td>\n",
       "</tr>\n",
       "<tr>\n",
       "  <th>RatioMin</th>                           <td>    0.0689</td> <td>    0.005</td> <td>   15.163</td> <td> 0.000</td> <td>    0.060</td> <td>    0.078</td>\n",
       "</tr>\n",
       "<tr>\n",
       "  <th>SignMax</th>                            <td>   -0.0143</td> <td>    0.009</td> <td>   -1.671</td> <td> 0.095</td> <td>   -0.031</td> <td>    0.002</td>\n",
       "</tr>\n",
       "<tr>\n",
       "  <th>pBbet_Unbiased1</th>                    <td>   -0.1901</td> <td>    0.029</td> <td>   -6.465</td> <td> 0.000</td> <td>   -0.248</td> <td>   -0.132</td>\n",
       "</tr>\n",
       "<tr>\n",
       "  <th>pBbet_UnbiasedFB</th>                   <td>    0.4495</td> <td>    0.029</td> <td>   15.735</td> <td> 0.000</td> <td>    0.394</td> <td>    0.505</td>\n",
       "</tr>\n",
       "<tr>\n",
       "  <th>pBbet_Uniform</th>                      <td>    0.1613</td> <td>    0.009</td> <td>   17.194</td> <td> 0.000</td> <td>    0.143</td> <td>    0.180</td>\n",
       "</tr>\n",
       "<tr>\n",
       "  <th>pBbet_Sign1</th>                        <td>    1.4761</td> <td>    0.065</td> <td>   22.804</td> <td> 0.000</td> <td>    1.349</td> <td>    1.603</td>\n",
       "</tr>\n",
       "<tr>\n",
       "  <th>pBbet_SignFB</th>                       <td>   -1.4163</td> <td>    0.066</td> <td>  -21.538</td> <td> 0.000</td> <td>   -1.545</td> <td>   -1.287</td>\n",
       "</tr>\n",
       "<tr>\n",
       "  <th>diffBEV0</th>                           <td> 3.265e+08</td> <td> 6.84e+07</td> <td>    4.776</td> <td> 0.000</td> <td> 1.93e+08</td> <td> 4.61e+08</td>\n",
       "</tr>\n",
       "<tr>\n",
       "  <th>diffBEVfb</th>                          <td>-4.087e+08</td> <td> 8.56e+07</td> <td>   -4.776</td> <td> 0.000</td> <td>-5.76e+08</td> <td>-2.41e+08</td>\n",
       "</tr>\n",
       "<tr>\n",
       "  <th>diffMins</th>                           <td>    0.2664</td> <td>    0.040</td> <td>    6.686</td> <td> 0.000</td> <td>    0.188</td> <td>    0.345</td>\n",
       "</tr>\n",
       "<tr>\n",
       "  <th>diffSignEV</th>                         <td>    0.0508</td> <td>    0.020</td> <td>    2.502</td> <td> 0.012</td> <td>    0.011</td> <td>    0.091</td>\n",
       "</tr>\n",
       "<tr>\n",
       "  <th>diffEV</th>                             <td>  1.91e+08</td> <td>    4e+07</td> <td>    4.776</td> <td> 0.000</td> <td> 1.13e+08</td> <td> 2.69e+08</td>\n",
       "</tr>\n",
       "<tr>\n",
       "  <th>diffMaxs</th>                           <td>    0.1389</td> <td>    0.020</td> <td>    7.067</td> <td> 0.000</td> <td>    0.100</td> <td>    0.177</td>\n",
       "</tr>\n",
       "<tr>\n",
       "  <th>diffSDs</th>                            <td>   -0.2128</td> <td>    0.025</td> <td>   -8.428</td> <td> 0.000</td> <td>   -0.262</td> <td>   -0.163</td>\n",
       "</tr>\n",
       "</table>\n",
       "<table class=\"simpletable\">\n",
       "<tr>\n",
       "  <th>Omnibus:</th>       <td>8135.512</td> <th>  Durbin-Watson:     </th> <td>   1.845</td>\n",
       "</tr>\n",
       "<tr>\n",
       "  <th>Prob(Omnibus):</th>  <td> 0.000</td>  <th>  Jarque-Bera (JB):  </th> <td>2448.133</td>\n",
       "</tr>\n",
       "<tr>\n",
       "  <th>Skew:</th>           <td> 0.086</td>  <th>  Prob(JB):          </th> <td>    0.00</td>\n",
       "</tr>\n",
       "<tr>\n",
       "  <th>Kurtosis:</th>       <td> 2.169</td>  <th>  Cond. No.          </th> <td>1.36e+15</td>\n",
       "</tr>\n",
       "</table><br/><br/>Warnings:<br/>[1] Standard Errors assume that the covariance matrix of the errors is correctly specified.<br/>[2] The smallest eigenvalue is 4.42e-25. This might indicate that there are<br/>strong multicollinearity problems or that the design matrix is singular."
      ],
      "text/plain": [
       "<class 'statsmodels.iolib.summary.Summary'>\n",
       "\"\"\"\n",
       "                            OLS Regression Results                            \n",
       "==============================================================================\n",
       "Dep. Variable:                      B   R-squared:                       0.313\n",
       "Model:                            OLS   Adj. R-squared:                  0.313\n",
       "Method:                 Least Squares   F-statistic:                     1093.\n",
       "Date:                Thu, 02 Apr 2020   Prob (F-statistic):               0.00\n",
       "Time:                        20:13:45   Log-Likelihood:                -30634.\n",
       "No. Observations:               81570   AIC:                         6.134e+04\n",
       "Df Residuals:                   81535   BIC:                         6.166e+04\n",
       "Df Model:                          34                                         \n",
       "Covariance Type:            nonrobust                                         \n",
       "======================================================================================================\n",
       "                                         coef    std err          t      P>|t|      [0.025      0.975]\n",
       "------------------------------------------------------------------------------------------------------\n",
       "Intercept                          -1.006e+08   2.11e+07     -4.776      0.000   -1.42e+08   -5.93e+07\n",
       "C(Gender)[T.1.0]                       0.0008      0.003      0.297      0.767      -0.004       0.006\n",
       "C(LotShapeB)[T.0.3333333333333333]    -0.0161      0.007     -2.451      0.014      -0.029      -0.003\n",
       "C(LotShapeB)[T.0.6666666666666667]    -0.0176      0.006     -3.137      0.002      -0.029      -0.007\n",
       "C(LotShapeB)[T.1.0]                   -0.0081      0.004     -2.175      0.030      -0.015      -0.001\n",
       "C(Amb)[T.1.0]                          0.0857      0.005     17.452      0.000       0.076       0.095\n",
       "C(Corr)[T.0.5]                        -0.0032      0.007     -0.459      0.646      -0.017       0.010\n",
       "C(Corr)[T.1.0]                        -0.0073      0.010     -0.715      0.474      -0.027       0.013\n",
       "C(Feedback)[T.1.0]                    24.0860      5.041      4.778      0.000      14.206      33.966\n",
       "C(Dom)[T.0.5]                          0.1189      0.008     14.901      0.000       0.103       0.134\n",
       "C(Dom)[T.1.0]                          0.2894      0.012     23.807      0.000       0.266       0.313\n",
       "C(block)[T.0.25]                     -24.0688      5.041     -4.775      0.000     -33.949     -14.189\n",
       "C(block)[T.0.5]                      -24.0690      5.041     -4.775      0.000     -33.949     -14.189\n",
       "C(block)[T.0.75]                     -24.0789      5.041     -4.777      0.000     -33.959     -14.199\n",
       "C(block)[T.1.0]                      -24.0837      5.041     -4.778      0.000     -33.964     -14.204\n",
       "Age                                    0.0147      0.008      1.763      0.078      -0.002       0.031\n",
       "Ha                                     0.0660      0.010      6.446      0.000       0.046       0.086\n",
       "pHa                                   -0.0011      0.006     -0.186      0.852      -0.012       0.010\n",
       "La                                     0.1049      0.025      4.174      0.000       0.056       0.154\n",
       "LotNumA                               -0.0321      0.007     -4.489      0.000      -0.046      -0.018\n",
       "pHb                                   -0.0291      0.006     -5.269      0.000      -0.040      -0.018\n",
       "Lb                                    -0.1573      0.027     -5.785      0.000      -0.211      -0.104\n",
       "RatioMin                               0.0689      0.005     15.163      0.000       0.060       0.078\n",
       "SignMax                               -0.0143      0.009     -1.671      0.095      -0.031       0.002\n",
       "pBbet_Unbiased1                       -0.1901      0.029     -6.465      0.000      -0.248      -0.132\n",
       "pBbet_UnbiasedFB                       0.4495      0.029     15.735      0.000       0.394       0.505\n",
       "pBbet_Uniform                          0.1613      0.009     17.194      0.000       0.143       0.180\n",
       "pBbet_Sign1                            1.4761      0.065     22.804      0.000       1.349       1.603\n",
       "pBbet_SignFB                          -1.4163      0.066    -21.538      0.000      -1.545      -1.287\n",
       "diffBEV0                            3.265e+08   6.84e+07      4.776      0.000    1.93e+08    4.61e+08\n",
       "diffBEVfb                          -4.087e+08   8.56e+07     -4.776      0.000   -5.76e+08   -2.41e+08\n",
       "diffMins                               0.2664      0.040      6.686      0.000       0.188       0.345\n",
       "diffSignEV                             0.0508      0.020      2.502      0.012       0.011       0.091\n",
       "diffEV                               1.91e+08      4e+07      4.776      0.000    1.13e+08    2.69e+08\n",
       "diffMaxs                               0.1389      0.020      7.067      0.000       0.100       0.177\n",
       "diffSDs                               -0.2128      0.025     -8.428      0.000      -0.262      -0.163\n",
       "==============================================================================\n",
       "Omnibus:                     8135.512   Durbin-Watson:                   1.845\n",
       "Prob(Omnibus):                  0.000   Jarque-Bera (JB):             2448.133\n",
       "Skew:                           0.086   Prob(JB):                         0.00\n",
       "Kurtosis:                       2.169   Cond. No.                     1.36e+15\n",
       "==============================================================================\n",
       "\n",
       "Warnings:\n",
       "[1] Standard Errors assume that the covariance matrix of the errors is correctly specified.\n",
       "[2] The smallest eigenvalue is 4.42e-25. This might indicate that there are\n",
       "strong multicollinearity problems or that the design matrix is singular.\n",
       "\"\"\""
      ]
     },
     "execution_count": 109,
     "metadata": {},
     "output_type": "execute_result"
    }
   ],
   "source": [
    "linear_1.summary()"
   ]
  },
  {
   "cell_type": "code",
   "execution_count": 110,
   "metadata": {},
   "outputs": [
    {
     "name": "stdout",
     "output_type": "stream",
     "text": [
      "RMSE is 0.34990219567730746\n",
      "correlation is 0.5681501589781555\n"
     ]
    },
    {
     "data": {
      "image/png": "[encoded data removed]",
      "text/plain": [
       "<Figure size 432x288 with 1 Axes>"
      ]
     },
     "metadata": {},
     "output_type": "display_data"
    },
    {
     "data": {
      "text/plain": [
       "(0.34990219567730746, 0.5681501589781555)"
      ]
     },
     "execution_count": 110,
     "metadata": {},
     "output_type": "execute_result"
    }
   ],
   "source": [
    "y_test_ = test_norm_2['B']\n",
    "y_pred_1 = linear_1.predict(test_norm_2)\n",
    "my_evaluate(y_pred_1, y_test_)"
   ]
  },
  {
   "cell_type": "markdown",
   "metadata": {},
   "source": [
    "### 2. Linear regression"
   ]
  },
  {
   "cell_type": "code",
   "execution_count": 111,
   "metadata": {},
   "outputs": [],
   "source": [
    "train_ =  pd.get_dummies(train)\n",
    "test_ =  pd.get_dummies(test)"
   ]
  },
  {
   "cell_type": "code",
   "execution_count": 112,
   "metadata": {},
   "outputs": [
    {
     "data": {
      "text/plain": [
       "Index(['SubjID', 'Location', 'Gender', 'Age', 'Order', 'GameID', 'Ha', 'pHa',\n",
       "       'La', 'LotNumA', 'Hb', 'pHb', 'Lb', 'LotNumB', 'Amb', 'Corr', 'block',\n",
       "       'Feedback', 'Dom', 'diffUV', 'RatioMin', 'SignMax', 'pBbet_Unbiased1',\n",
       "       'pBbet_UnbiasedFB', 'pBbet_Uniform', 'pBbet_Sign1', 'pBbet_SignFB',\n",
       "       'diffBEV0', 'diffBEVfb', 'diffMins', 'diffSignEV', 'diffEV', 'diffMaxs',\n",
       "       'diffSDs', 'B', 'BEAST_blkPred', 'LotShapeA_1', 'LotShapeA_2',\n",
       "       'LotShapeA_3', 'LotShapeA_4', 'LotShapeB_1', 'LotShapeB_2',\n",
       "       'LotShapeB_3', 'LotShapeB_4'],\n",
       "      dtype='object')"
      ]
     },
     "execution_count": 112,
     "metadata": {},
     "output_type": "execute_result"
    }
   ],
   "source": [
    "train_.columns"
   ]
  },
  {
   "cell_type": "code",
   "execution_count": 113,
   "metadata": {},
   "outputs": [],
   "source": [
    "# normalize the data attributes\n",
    "min_max_scaler = preprocessing.MinMaxScaler()\n",
    "\n",
    "test_norm_1 = min_max_scaler.fit_transform(test_)\n",
    "train_norm_1 = min_max_scaler.fit_transform(train_)"
   ]
  },
  {
   "cell_type": "code",
   "execution_count": 114,
   "metadata": {},
   "outputs": [],
   "source": [
    "train_norm_1 = pd.DataFrame(test_norm_1)\n",
    "test_norm_1 = pd.DataFrame(train_norm_1)"
   ]
  },
  {
   "cell_type": "code",
   "execution_count": 122,
   "metadata": {},
   "outputs": [],
   "source": [
    "train_norm_1.columns = ['SubjID', 'Location', 'Gender', 'Age', 'Order', 'GameID', 'Ha', 'pHa',\n",
    "       'La', 'LotNumA', 'Hb', 'pHb', 'Lb', 'LotNumB', 'Amb', 'Corr', 'block',\n",
    "       'Feedback', 'Dom', 'diffUV', 'RatioMin', 'SignMax', 'pBbet_Unbiased1',\n",
    "       'pBbet_UnbiasedFB', 'pBbet_Uniform', 'pBbet_Sign1', 'pBbet_SignFB',\n",
    "       'diffBEV0', 'diffBEVfb', 'diffMins', 'diffSignEV', 'diffEV', 'diffMaxs',\n",
    "       'diffSDs', 'B', 'BEAST_blkPred', 'LotShapeA_1', 'LotShapeA_2',\n",
    "       'LotShapeA_3', 'LotShapeA_4', 'LotShapeB_1', 'LotShapeB_2',\n",
    "       'LotShapeB_3', 'LotShapeB_4']\n",
    "\n",
    "test_norm_1.columns = ['SubjID', 'Location', 'Gender', 'Age', 'Order', 'GameID', 'Ha', 'pHa',\n",
    "       'La', 'LotNumA', 'Hb', 'pHb', 'Lb', 'LotNumB', 'Amb', 'Corr', 'block',\n",
    "       'Feedback', 'Dom', 'diffUV', 'RatioMin', 'SignMax', 'pBbet_Unbiased1',\n",
    "       'pBbet_UnbiasedFB', 'pBbet_Uniform', 'pBbet_Sign1', 'pBbet_SignFB',\n",
    "       'diffBEV0', 'diffBEVfb', 'diffMins', 'diffSignEV', 'diffEV', 'diffMaxs',\n",
    "       'diffSDs', 'B', 'BEAST_blkPred', 'LotShapeA_1', 'LotShapeA_2',\n",
    "       'LotShapeA_3', 'LotShapeA_4', 'LotShapeB_1', 'LotShapeB_2',\n",
    "       'LotShapeB_3', 'LotShapeB_4']"
   ]
  },
  {
   "cell_type": "code",
   "execution_count": 147,
   "metadata": {},
   "outputs": [],
   "source": [
    "X_train = train_norm_1.drop(['SubjID', 'GameID','B'], axis=1)\n",
    "y_train = train_norm_1['B']\n",
    "X_test = test_norm_1.drop(['SubjID', 'GameID','B'], axis=1)\n",
    "y_test = test_norm_1['B']"
   ]
  },
  {
   "cell_type": "code",
   "execution_count": 124,
   "metadata": {},
   "outputs": [
    {
     "data": {
      "text/plain": [
       "LinearRegression(copy_X=True, fit_intercept=True, n_jobs=1, normalize=True)"
      ]
     },
     "execution_count": 124,
     "metadata": {},
     "output_type": "execute_result"
    }
   ],
   "source": [
    "from sklearn import linear_model\n",
    "reg_model = linear_model.LinearRegression(normalize=True)\n",
    "reg_model.fit(X_train, y_train)"
   ]
  },
  {
   "cell_type": "code",
   "execution_count": 125,
   "metadata": {},
   "outputs": [
    {
     "name": "stdout",
     "output_type": "stream",
     "text": [
      "RMSE is 0.34104504684775216\n",
      "correlation is 0.597004265247271\n"
     ]
    },
    {
     "data": {
      "image/png": "[encoded data removed]",
      "text/plain": [
       "<Figure size 432x288 with 1 Axes>"
      ]
     },
     "metadata": {},
     "output_type": "display_data"
    },
    {
     "data": {
      "text/plain": [
       "(0.34104504684775216, 0.597004265247271)"
      ]
     },
     "execution_count": 125,
     "metadata": {},
     "output_type": "execute_result"
    }
   ],
   "source": [
    "y_pred_2 = reg_model.predict(X_test)\n",
    "my_evaluate(y_pred_2, y_test)"
   ]
  },
  {
   "cell_type": "markdown",
   "metadata": {},
   "source": [
    "### Mixed Effects"
   ]
  },
  {
   "cell_type": "code",
   "execution_count": 126,
   "metadata": {},
   "outputs": [
    {
     "name": "stderr",
     "output_type": "stream",
     "text": [
      "/Users/anabelen/anaconda3/lib/python3.6/site-packages/statsmodels/regression/mixed_linear_model.py:2066: ConvergenceWarning: The Hessian matrix at the estimated parameter values is not positive definite.\n",
      "  warnings.warn(msg, ConvergenceWarning)\n"
     ]
    }
   ],
   "source": [
    "import statsmodels.formula.api as smf\n",
    "\n",
    "md = smf.mixedlm('B ~  + C(Gender) + Age + Ha + pHa + La + C(LotShapeA) + C(LotNumA) + Hb + pHb + Lb + C(LotShapeB) + C(LotNumB) + C(Amb) + C(Corr) + C(Feedback) + C(Dom) + pBbet_Unbiased1 + diffBEVfb + diffEV + BEAST_blkPred', \n",
    "                 train_norm_2, groups=train['block']).fit()"
   ]
  },
  {
   "cell_type": "code",
   "execution_count": 127,
   "metadata": {},
   "outputs": [
    {
     "name": "stdout",
     "output_type": "stream",
     "text": [
      "RMSE is 0.3421323777640609\n",
      "correlation is 0.5939546728179642\n"
     ]
    },
    {
     "data": {
      "image/png": "[encoded data removed]",
      "text/plain": [
       "<Figure size 432x288 with 1 Axes>"
      ]
     },
     "metadata": {},
     "output_type": "display_data"
    },
    {
     "data": {
      "text/plain": [
       "(0.3421323777640609, 0.5939546728179642)"
      ]
     },
     "execution_count": 127,
     "metadata": {},
     "output_type": "execute_result"
    }
   ],
   "source": [
    "y_pred_3 = md.predict(test_norm_2)\n",
    "my_evaluate(y_pred_3, y_test_)"
   ]
  },
  {
   "cell_type": "markdown",
   "metadata": {},
   "source": [
    "### Random Forest"
   ]
  },
  {
   "cell_type": "code",
   "execution_count": 128,
   "metadata": {},
   "outputs": [
    {
     "name": "stderr",
     "output_type": "stream",
     "text": [
      "/Users/anabelen/anaconda3/lib/python3.6/site-packages/sklearn/ensemble/weight_boosting.py:29: DeprecationWarning: numpy.core.umath_tests is an internal NumPy module and should not be imported. It will be removed in a future NumPy release.\n",
      "  from numpy.core.umath_tests import inner1d\n"
     ]
    },
    {
     "name": "stdout",
     "output_type": "stream",
     "text": [
      "RMSE is 0.3232307742571973\n",
      "correlation is 0.6504854017186078\n"
     ]
    },
    {
     "data": {
      "image/png": "[encoded data removed]",
      "text/plain": [
       "<Figure size 432x288 with 1 Axes>"
      ]
     },
     "metadata": {},
     "output_type": "display_data"
    },
    {
     "data": {
      "text/plain": [
       "(0.3232307742571973, 0.6504854017186078)"
      ]
     },
     "execution_count": 128,
     "metadata": {},
     "output_type": "execute_result"
    }
   ],
   "source": [
    "from sklearn.ensemble import RandomForestRegressor\n",
    "rf_model = RandomForestRegressor(n_estimators=160, max_features=0.22, min_samples_leaf=55)\n",
    "rf_model.fit(X_train, y_train)\n",
    "\n",
    "# let the trained RF predict the prediction prbolem\n",
    "y_pred_4 = rf_model.predict(X_test)\n",
    "my_evaluate(y_pred_4, y_test)"
   ]
  },
  {
   "cell_type": "code",
   "execution_count": 150,
   "metadata": {},
   "outputs": [
    {
     "data": {
      "text/plain": [
       "Index(['Location', 'Gender', 'Age', 'Order', 'Ha', 'pHa', 'La', 'LotNumA',\n",
       "       'Hb', 'pHb', 'Lb', 'LotNumB', 'Amb', 'Corr', 'block', 'Feedback', 'Dom',\n",
       "       'diffUV', 'RatioMin', 'SignMax', 'pBbet_Unbiased1', 'pBbet_UnbiasedFB',\n",
       "       'pBbet_Uniform', 'pBbet_Sign1', 'pBbet_SignFB', 'diffBEV0', 'diffBEVfb',\n",
       "       'diffMins', 'diffSignEV', 'diffEV', 'diffMaxs', 'diffSDs',\n",
       "       'BEAST_blkPred', 'LotShapeA_1', 'LotShapeA_2', 'LotShapeA_3',\n",
       "       'LotShapeA_4', 'LotShapeB_1', 'LotShapeB_2', 'LotShapeB_3',\n",
       "       'LotShapeB_4'],\n",
       "      dtype='object')"
      ]
     },
     "execution_count": 150,
     "metadata": {},
     "output_type": "execute_result"
    }
   ],
   "source": [
    "X_train.columns"
   ]
  },
  {
   "cell_type": "code",
   "execution_count": 160,
   "metadata": {},
   "outputs": [
    {
     "name": "stdout",
     "output_type": "stream",
     "text": [
      "Feature ranking:\n",
      "1. feature 32 (0.277551)\n",
      "2. feature 29 (0.113009)\n",
      "3. feature 26 (0.112359)\n",
      "4. feature 25 (0.097781)\n",
      "5. feature 20 (0.070514)\n"
     ]
    },
    {
     "data": {
      "image/png": "[encoded data removed]",
      "text/plain": [
       "<Figure size 432x288 with 1 Axes>"
      ]
     },
     "metadata": {},
     "output_type": "display_data"
    }
   ],
   "source": [
    "importances = rf_model.feature_importances_\n",
    "std = np.std([tree.feature_importances_ for tree in rf_model.estimators_],\n",
    "             axis=0)\n",
    "indices = np.argsort(importances)[::-1]\n",
    "\n",
    "# Print the feature ranking\n",
    "print(\"Feature ranking:\")\n",
    "\n",
    "for f in range(0,5):\n",
    "    print(\"%d. feature %d (%f)\" % (f + 1, indices[f], importances[indices[f]]))\n",
    "\n",
    "# Plot the feature importances of the forest\n",
    "plt.figure()\n",
    "plt.title(\"Feature importances\")\n",
    "plt.bar(range(X_train.shape[1]), importances[indices],\n",
    "       color=\"r\", align=\"center\")\n",
    "plt.xticks(range(X_train.shape[1]), indices)\n",
    "plt.xlim([-1, X_train.shape[1]])\n",
    "plt.show()"
   ]
  },
  {
   "cell_type": "code",
   "execution_count": 145,
   "metadata": {},
   "outputs": [
    {
     "data": {
      "text/plain": [
       "Index(['Location', 'Gender', 'Age', 'Order', 'Ha', 'pHa', 'La', 'LotNumA',\n",
       "       'Hb', 'pHb', 'Lb', 'LotNumB', 'Amb', 'Corr', 'block', 'Feedback', 'Dom',\n",
       "       'diffUV', 'RatioMin', 'SignMax', 'pBbet_Unbiased1', 'pBbet_UnbiasedFB',\n",
       "       'pBbet_Uniform', 'pBbet_Sign1', 'pBbet_SignFB', 'diffBEV0', 'diffBEVfb',\n",
       "       'diffMins', 'diffSignEV', 'diffEV', 'diffMaxs', 'diffSDs',\n",
       "       'BEAST_blkPred', 'LotShapeA_1', 'LotShapeA_2', 'LotShapeA_3',\n",
       "       'LotShapeA_4', 'LotShapeB_1', 'LotShapeB_2', 'LotShapeB_3',\n",
       "       'LotShapeB_4'],\n",
       "      dtype='object')"
      ]
     },
     "execution_count": 145,
     "metadata": {},
     "output_type": "execute_result"
    }
   ],
   "source": [
    "X_train.columns"
   ]
  },
  {
   "cell_type": "markdown",
   "metadata": {},
   "source": [
    "### XGBoost"
   ]
  },
  {
   "cell_type": "code",
   "execution_count": 154,
   "metadata": {},
   "outputs": [
    {
     "name": "stderr",
     "output_type": "stream",
     "text": [
      "/Users/anabelen/anaconda3/lib/python3.6/site-packages/xgboost/core.py:587: FutureWarning: Series.base is deprecated and will be removed in a future version\n",
      "  if getattr(data, 'base', None) is not None and \\\n",
      "/Users/anabelen/anaconda3/lib/python3.6/site-packages/xgboost/core.py:588: FutureWarning: Series.base is deprecated and will be removed in a future version\n",
      "  data.base is not None and isinstance(data, np.ndarray) \\\n"
     ]
    },
    {
     "name": "stdout",
     "output_type": "stream",
     "text": [
      "RMSE is 0.31444711217989674\n",
      "correlation is 0.6738046664900851\n"
     ]
    },
    {
     "data": {
      "image/png": "[encoded data removed]",
      "text/plain": [
       "<Figure size 432x288 with 1 Axes>"
      ]
     },
     "metadata": {},
     "output_type": "display_data"
    },
    {
     "data": {
      "text/plain": [
       "(0.31444711217989674, 0.6738046664900851)"
      ]
     },
     "execution_count": 154,
     "metadata": {},
     "output_type": "execute_result"
    }
   ],
   "source": [
    "import xgboost as xgb\n",
    "xg_model = xgb.XGBRegressor(learning_rate=0.05, max_depth=3, n_estimators=1000, colsample_bytree=0.4, subsample=0.2)\n",
    "xg_model.fit(X_train,y_train)\n",
    "y_pred_5 = xg_model.predict(X_test)\n",
    "my_evaluate(y_pred_5, y_test)"
   ]
  },
  {
   "cell_type": "code",
   "execution_count": 159,
   "metadata": {},
   "outputs": [
    {
     "name": "stdout",
     "output_type": "stream",
     "text": [
      "Feature ranking:\n",
      "1. feature 16 (0.087954)\n",
      "2. feature 29 (0.086892)\n",
      "3. feature 25 (0.061437)\n",
      "4. feature 26 (0.059166)\n",
      "5. feature 32 (0.052807)\n"
     ]
    },
    {
     "data": {
      "image/png": "[encoded data removed]",
      "text/plain": [
       "<Figure size 432x288 with 1 Axes>"
      ]
     },
     "metadata": {},
     "output_type": "display_data"
    }
   ],
   "source": [
    "importances = xg_model.feature_importances_\n",
    "#std = np.std([tree.feature_importances_ for tree in xg_model.estimators_],\n",
    "#             axis=0)\n",
    "indices = np.argsort(importances)[::-1]\n",
    "\n",
    "# Print the feature ranking\n",
    "print(\"Feature ranking:\")\n",
    "\n",
    "for f in range(0,5):\n",
    "    print(\"%d. feature %d (%f)\" % (f + 1, indices[f], importances[indices[f]]))\n",
    "\n",
    "# Plot the feature importances of the forest\n",
    "plt.figure()\n",
    "plt.title(\"Feature importances\")\n",
    "plt.bar(range(X_train.shape[1]), importances[indices],\n",
    "       color=\"r\", align=\"center\")\n",
    "plt.xticks(range(X_train.shape[1]), indices)\n",
    "plt.xlim([-1, X_train.shape[1]])\n",
    "plt.show()"
   ]
  }
 ],
 "metadata": {
  "kernelspec": {
   "display_name": "Python 3",
   "language": "python",
   "name": "python3"
  },
  "language_info": {
   "codemirror_mode": {
    "name": "ipython",
    "version": 3
   },
   "file_extension": ".py",
   "mimetype": "text/x-python",
   "name": "python",
   "nbconvert_exporter": "python",
   "pygments_lexer": "ipython3",
   "version": "3.6.4"
  }
 },
 "nbformat": 4,
 "nbformat_minor": 2
}
