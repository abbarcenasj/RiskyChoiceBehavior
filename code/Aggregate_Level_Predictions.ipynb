{
 "cells": [
  {
   "cell_type": "markdown",
   "metadata": {},
   "source": [
    "# Data Preprocessing and Exploration"
   ]
  },
  {
   "cell_type": "code",
   "execution_count": 1,
   "metadata": {},
   "outputs": [],
   "source": [
    "#import packages\n",
    "import os"
   ]
  },
  {
   "cell_type": "code",
   "execution_count": 2,
   "metadata": {},
   "outputs": [],
   "source": [
    "import pandas as pd\n",
    "import numpy as np\n",
    "import time\n",
    "from CPC18_PF_pred import CPC18_PF_pred\n",
    "from sklearn.ensemble import RandomForestRegressor"
   ]
  },
  {
   "cell_type": "code",
   "execution_count": 3,
   "metadata": {},
   "outputs": [],
   "source": [
    "%matplotlib inline\n",
    "import matplotlib.pyplot as plt\n",
    "plt.style.use('seaborn-whitegrid')"
   ]
  },
  {
   "cell_type": "code",
   "execution_count": 4,
   "metadata": {},
   "outputs": [],
   "source": [
    "#read in data\n",
    "Data = pd.read_csv('CPC18_EstSet.csv')\n",
    "train_data = pd.read_csv('TrainData.csv')\n",
    "# useful variables\n",
    "nProblems = Data.shape[0]\n",
    "PredictedAll = np.zeros(shape=(nProblems, 5))"
   ]
  },
  {
   "cell_type": "code",
   "execution_count": 5,
   "metadata": {},
   "outputs": [
    {
     "data": {
      "text/html": [
       "<div>\n",
       "<style scoped>\n",
       "    .dataframe tbody tr th:only-of-type {\n",
       "        vertical-align: middle;\n",
       "    }\n",
       "\n",
       "    .dataframe tbody tr th {\n",
       "        vertical-align: top;\n",
       "    }\n",
       "\n",
       "    .dataframe thead th {\n",
       "        text-align: right;\n",
       "    }\n",
       "</style>\n",
       "<table border=\"1\" class=\"dataframe\">\n",
       "  <thead>\n",
       "    <tr style=\"text-align: right;\">\n",
       "      <th></th>\n",
       "      <th>GameID</th>\n",
       "      <th>Ha</th>\n",
       "      <th>pHa</th>\n",
       "      <th>La</th>\n",
       "      <th>lot_shape__A</th>\n",
       "      <th>lot_shape_symm_A</th>\n",
       "      <th>lot_shape_L_A</th>\n",
       "      <th>lot_shape_R_A</th>\n",
       "      <th>LotNumA</th>\n",
       "      <th>Hb</th>\n",
       "      <th>...</th>\n",
       "      <th>pBbet_Sign1</th>\n",
       "      <th>pBbet_SignFB</th>\n",
       "      <th>Dom</th>\n",
       "      <th>diffBEV0</th>\n",
       "      <th>diffBEVfb</th>\n",
       "      <th>diffSignEV</th>\n",
       "      <th>BEASTpred</th>\n",
       "      <th>block</th>\n",
       "      <th>Feedback</th>\n",
       "      <th>B_rate</th>\n",
       "    </tr>\n",
       "  </thead>\n",
       "  <tbody>\n",
       "    <tr>\n",
       "      <td>0</td>\n",
       "      <td>1</td>\n",
       "      <td>3</td>\n",
       "      <td>1.0</td>\n",
       "      <td>3</td>\n",
       "      <td>1</td>\n",
       "      <td>0</td>\n",
       "      <td>0</td>\n",
       "      <td>0</td>\n",
       "      <td>1</td>\n",
       "      <td>4</td>\n",
       "      <td>...</td>\n",
       "      <td>-0.2015</td>\n",
       "      <td>-0.2032</td>\n",
       "      <td>0</td>\n",
       "      <td>0.2</td>\n",
       "      <td>0.2</td>\n",
       "      <td>-0.8</td>\n",
       "      <td>0.44503</td>\n",
       "      <td>1</td>\n",
       "      <td>0</td>\n",
       "      <td>0.4224</td>\n",
       "    </tr>\n",
       "    <tr>\n",
       "      <td>1</td>\n",
       "      <td>1</td>\n",
       "      <td>3</td>\n",
       "      <td>1.0</td>\n",
       "      <td>3</td>\n",
       "      <td>1</td>\n",
       "      <td>0</td>\n",
       "      <td>0</td>\n",
       "      <td>0</td>\n",
       "      <td>1</td>\n",
       "      <td>4</td>\n",
       "      <td>...</td>\n",
       "      <td>-0.2015</td>\n",
       "      <td>-0.2032</td>\n",
       "      <td>0</td>\n",
       "      <td>0.2</td>\n",
       "      <td>0.2</td>\n",
       "      <td>-0.8</td>\n",
       "      <td>0.48963</td>\n",
       "      <td>2</td>\n",
       "      <td>1</td>\n",
       "      <td>0.5712</td>\n",
       "    </tr>\n",
       "    <tr>\n",
       "      <td>2</td>\n",
       "      <td>1</td>\n",
       "      <td>3</td>\n",
       "      <td>1.0</td>\n",
       "      <td>3</td>\n",
       "      <td>1</td>\n",
       "      <td>0</td>\n",
       "      <td>0</td>\n",
       "      <td>0</td>\n",
       "      <td>1</td>\n",
       "      <td>4</td>\n",
       "      <td>...</td>\n",
       "      <td>-0.2015</td>\n",
       "      <td>-0.2032</td>\n",
       "      <td>0</td>\n",
       "      <td>0.2</td>\n",
       "      <td>0.2</td>\n",
       "      <td>-0.8</td>\n",
       "      <td>0.51135</td>\n",
       "      <td>3</td>\n",
       "      <td>1</td>\n",
       "      <td>0.5680</td>\n",
       "    </tr>\n",
       "    <tr>\n",
       "      <td>3</td>\n",
       "      <td>1</td>\n",
       "      <td>3</td>\n",
       "      <td>1.0</td>\n",
       "      <td>3</td>\n",
       "      <td>1</td>\n",
       "      <td>0</td>\n",
       "      <td>0</td>\n",
       "      <td>0</td>\n",
       "      <td>1</td>\n",
       "      <td>4</td>\n",
       "      <td>...</td>\n",
       "      <td>-0.2015</td>\n",
       "      <td>-0.2032</td>\n",
       "      <td>0</td>\n",
       "      <td>0.2</td>\n",
       "      <td>0.2</td>\n",
       "      <td>-0.8</td>\n",
       "      <td>0.51613</td>\n",
       "      <td>4</td>\n",
       "      <td>1</td>\n",
       "      <td>0.5952</td>\n",
       "    </tr>\n",
       "    <tr>\n",
       "      <td>4</td>\n",
       "      <td>1</td>\n",
       "      <td>3</td>\n",
       "      <td>1.0</td>\n",
       "      <td>3</td>\n",
       "      <td>1</td>\n",
       "      <td>0</td>\n",
       "      <td>0</td>\n",
       "      <td>0</td>\n",
       "      <td>1</td>\n",
       "      <td>4</td>\n",
       "      <td>...</td>\n",
       "      <td>-0.2015</td>\n",
       "      <td>-0.2032</td>\n",
       "      <td>0</td>\n",
       "      <td>0.2</td>\n",
       "      <td>0.2</td>\n",
       "      <td>-0.8</td>\n",
       "      <td>0.52383</td>\n",
       "      <td>5</td>\n",
       "      <td>1</td>\n",
       "      <td>0.6496</td>\n",
       "    </tr>\n",
       "  </tbody>\n",
       "</table>\n",
       "<p>5 rows × 39 columns</p>\n",
       "</div>"
      ],
      "text/plain": [
       "   GameID  Ha  pHa  La  lot_shape__A  lot_shape_symm_A  lot_shape_L_A  \\\n",
       "0       1   3  1.0   3             1                 0              0   \n",
       "1       1   3  1.0   3             1                 0              0   \n",
       "2       1   3  1.0   3             1                 0              0   \n",
       "3       1   3  1.0   3             1                 0              0   \n",
       "4       1   3  1.0   3             1                 0              0   \n",
       "\n",
       "   lot_shape_R_A  LotNumA  Hb  ...  pBbet_Sign1  pBbet_SignFB  Dom  diffBEV0  \\\n",
       "0              0        1   4  ...      -0.2015       -0.2032    0       0.2   \n",
       "1              0        1   4  ...      -0.2015       -0.2032    0       0.2   \n",
       "2              0        1   4  ...      -0.2015       -0.2032    0       0.2   \n",
       "3              0        1   4  ...      -0.2015       -0.2032    0       0.2   \n",
       "4              0        1   4  ...      -0.2015       -0.2032    0       0.2   \n",
       "\n",
       "   diffBEVfb  diffSignEV  BEASTpred  block  Feedback  B_rate  \n",
       "0        0.2        -0.8    0.44503      1         0  0.4224  \n",
       "1        0.2        -0.8    0.48963      2         1  0.5712  \n",
       "2        0.2        -0.8    0.51135      3         1  0.5680  \n",
       "3        0.2        -0.8    0.51613      4         1  0.5952  \n",
       "4        0.2        -0.8    0.52383      5         1  0.6496  \n",
       "\n",
       "[5 rows x 39 columns]"
      ]
     },
     "execution_count": 5,
     "metadata": {},
     "output_type": "execute_result"
    }
   ],
   "source": [
    "#data exploration\n",
    "data = pd.read_csv('TrainData210.csv')\n",
    "data.head(5)"
   ]
  },
  {
   "cell_type": "code",
   "execution_count": 7,
   "metadata": {},
   "outputs": [
    {
     "data": {
      "text/plain": [
       "(1050, 39)"
      ]
     },
     "execution_count": 7,
     "metadata": {},
     "output_type": "execute_result"
    }
   ],
   "source": [
    "data.shape"
   ]
  },
  {
   "cell_type": "code",
   "execution_count": 9,
   "metadata": {},
   "outputs": [
    {
     "data": {
      "image/png": "[encoded data removed]",
      "text/plain": [
       "<Figure size 432x288 with 2 Axes>"
      ]
     },
     "metadata": {
      "needs_background": "light"
     },
     "output_type": "display_data"
    }
   ],
   "source": [
    "import seaborn as sns\n",
    "corr = data.corr()\n",
    "ax = sns.heatmap(\n",
    "    corr, \n",
    "    vmin=-1, vmax=1, center=0,\n",
    "    cmap=sns.diverging_palette(20, 220, n=200),\n",
    "    square=True\n",
    ")\n",
    "ax.set_xticklabels(\n",
    "    ax.get_xticklabels(),\n",
    "    rotation=45,\n",
    "    horizontalalignment='right'\n",
    ");"
   ]
  },
  {
   "cell_type": "code",
   "execution_count": null,
   "metadata": {},
   "outputs": [],
   "source": [
    "#data standardization\n"
   ]
  },
  {
   "cell_type": "markdown",
   "metadata": {},
   "source": [
    "# Random Forest"
   ]
  },
  {
   "cell_type": "code",
   "execution_count": 125,
   "metadata": {},
   "outputs": [],
   "source": [
    "#split train and test set\n",
    "data_train = data.iloc[:750,]\n",
    "data_test = data.iloc[750:,]\n",
    "x_test = data_test.iloc[:, 1:38]\n",
    "y_test = data_test['B_rate']\n",
    "x_train = data_train.iloc[:, 1:38]\n",
    "y_train = data_train['B_rate']"
   ]
  },
  {
   "cell_type": "code",
   "execution_count": 91,
   "metadata": {},
   "outputs": [],
   "source": [
    "x_train1 = pd.concat([data_train.iloc[:, 1:35],data_train.iloc[:, 36:38]],axis = 1)\n",
    "y_train1 = data_train['B_rate']\n",
    "x_test1 = pd.concat([data_test.iloc[:, 1:35],data_test.iloc[:, 36:38]],axis = 1)\n",
    "y_test1 = data_test['B_rate']"
   ]
  },
  {
   "cell_type": "code",
   "execution_count": 90,
   "metadata": {},
   "outputs": [
    {
     "data": {
      "text/plain": [
       "(750, 36)"
      ]
     },
     "execution_count": 90,
     "metadata": {},
     "output_type": "execute_result"
    }
   ],
   "source": [
    "x_train1.shape"
   ]
  },
  {
   "cell_type": "code",
   "execution_count": 93,
   "metadata": {},
   "outputs": [],
   "source": [
    "#build a random forest model\n",
    "rf_model1 = RandomForestRegressor(n_estimators=500, max_features=0.3333, min_samples_leaf=5)"
   ]
  },
  {
   "cell_type": "code",
   "execution_count": 97,
   "metadata": {},
   "outputs": [
    {
     "data": {
      "text/plain": [
       "RandomForestRegressor(bootstrap=True, criterion='mse', max_depth=None,\n",
       "                      max_features=0.3333, max_leaf_nodes=None,\n",
       "                      min_impurity_decrease=0.0, min_impurity_split=None,\n",
       "                      min_samples_leaf=5, min_samples_split=2,\n",
       "                      min_weight_fraction_leaf=0.0, n_estimators=500,\n",
       "                      n_jobs=None, oob_score=False, random_state=None,\n",
       "                      verbose=0, warm_start=False)"
      ]
     },
     "execution_count": 97,
     "metadata": {},
     "output_type": "execute_result"
    }
   ],
   "source": [
    "rf_model1.fit(x_train1, y_train1)"
   ]
  },
  {
   "cell_type": "code",
   "execution_count": 99,
   "metadata": {},
   "outputs": [
    {
     "data": {
      "text/plain": [
       "0.9658479222624887"
      ]
     },
     "execution_count": 99,
     "metadata": {},
     "output_type": "execute_result"
    }
   ],
   "source": [
    "#in-sample R^2\n",
    "rf_model1.score(x_train1,y_train1)"
   ]
  },
  {
   "cell_type": "code",
   "execution_count": 100,
   "metadata": {},
   "outputs": [
    {
     "data": {
      "text/plain": [
       "0.842513003653707"
      ]
     },
     "execution_count": 100,
     "metadata": {},
     "output_type": "execute_result"
    }
   ],
   "source": [
    "#out-of-sample R^2\n",
    "rf_model1.score(x_test1, y_test1)"
   ]
  },
  {
   "cell_type": "code",
   "execution_count": 157,
   "metadata": {},
   "outputs": [
    {
     "name": "stderr",
     "output_type": "stream",
     "text": [
      "/opt/anaconda3/lib/python3.7/site-packages/sklearn/ensemble/forest.py:245: FutureWarning: The default value of n_estimators will change from 10 in version 0.20 to 100 in 0.22.\n",
      "  \"10 in version 0.20 to 100 in 0.22.\", FutureWarning)\n",
      "/opt/anaconda3/lib/python3.7/site-packages/sklearn/ensemble/forest.py:245: FutureWarning: The default value of n_estimators will change from 10 in version 0.20 to 100 in 0.22.\n",
      "  \"10 in version 0.20 to 100 in 0.22.\", FutureWarning)\n",
      "/opt/anaconda3/lib/python3.7/site-packages/sklearn/ensemble/forest.py:245: FutureWarning: The default value of n_estimators will change from 10 in version 0.20 to 100 in 0.22.\n",
      "  \"10 in version 0.20 to 100 in 0.22.\", FutureWarning)\n",
      "/opt/anaconda3/lib/python3.7/site-packages/sklearn/ensemble/forest.py:245: FutureWarning: The default value of n_estimators will change from 10 in version 0.20 to 100 in 0.22.\n",
      "  \"10 in version 0.20 to 100 in 0.22.\", FutureWarning)\n",
      "/opt/anaconda3/lib/python3.7/site-packages/sklearn/ensemble/forest.py:245: FutureWarning: The default value of n_estimators will change from 10 in version 0.20 to 100 in 0.22.\n",
      "  \"10 in version 0.20 to 100 in 0.22.\", FutureWarning)\n",
      "/opt/anaconda3/lib/python3.7/site-packages/sklearn/ensemble/forest.py:245: FutureWarning: The default value of n_estimators will change from 10 in version 0.20 to 100 in 0.22.\n",
      "  \"10 in version 0.20 to 100 in 0.22.\", FutureWarning)\n",
      "/opt/anaconda3/lib/python3.7/site-packages/sklearn/ensemble/forest.py:245: FutureWarning: The default value of n_estimators will change from 10 in version 0.20 to 100 in 0.22.\n",
      "  \"10 in version 0.20 to 100 in 0.22.\", FutureWarning)\n",
      "/opt/anaconda3/lib/python3.7/site-packages/sklearn/ensemble/forest.py:245: FutureWarning: The default value of n_estimators will change from 10 in version 0.20 to 100 in 0.22.\n",
      "  \"10 in version 0.20 to 100 in 0.22.\", FutureWarning)\n",
      "/opt/anaconda3/lib/python3.7/site-packages/sklearn/ensemble/forest.py:245: FutureWarning: The default value of n_estimators will change from 10 in version 0.20 to 100 in 0.22.\n",
      "  \"10 in version 0.20 to 100 in 0.22.\", FutureWarning)\n",
      "/opt/anaconda3/lib/python3.7/site-packages/sklearn/ensemble/forest.py:245: FutureWarning: The default value of n_estimators will change from 10 in version 0.20 to 100 in 0.22.\n",
      "  \"10 in version 0.20 to 100 in 0.22.\", FutureWarning)\n"
     ]
    },
    {
     "data": {
      "text/plain": [
       "0.8399768806182574"
      ]
     },
     "execution_count": 157,
     "metadata": {},
     "output_type": "execute_result"
    }
   ],
   "source": [
    "#averaging 10 RF models to calculate MSE\n",
    "n_runs = 10\n",
    "predictionn = np.repeat([0], 300)\n",
    "for i in range(n_runs):\n",
    "    rf_modeln = RandomForestRegressor()\n",
    "    rf_modeln.fit(X=x_train, y=y_train)\n",
    "    predn = rf_modeln.predict(x_test)\n",
    "    predictionn = np.add(predictionn, (1 / n_runs) * pred)\n",
    "mse = 100*((y_test - predictionn)**2).mean()\n",
    "mse"
   ]
  },
  {
   "cell_type": "code",
   "execution_count": 134,
   "metadata": {},
   "outputs": [
    {
     "name": "stdout",
     "output_type": "stream",
     "text": [
      "Wed Feb  5 17:45:15 2020: Finish problem number: 1\n",
      "Wed Feb  5 17:45:31 2020: Finish problem number: 2\n",
      "Wed Feb  5 17:45:56 2020: Finish problem number: 3\n",
      "Wed Feb  5 17:46:28 2020: Finish problem number: 4\n",
      "Wed Feb  5 17:47:07 2020: Finish problem number: 5\n",
      "Wed Feb  5 17:47:54 2020: Finish problem number: 6\n",
      "Wed Feb  5 17:48:48 2020: Finish problem number: 7\n",
      "Wed Feb  5 17:49:51 2020: Finish problem number: 8\n",
      "Wed Feb  5 17:51:00 2020: Finish problem number: 9\n",
      "Wed Feb  5 17:52:18 2020: Finish problem number: 10\n"
     ]
    }
   ],
   "source": [
    "#iterate through the parameter space of estimator numbers and keep a record of the MSEs\n",
    "n_runs = 50\n",
    "temp = 0\n",
    "for i in range(100, 1100, 100):\n",
    "    prediction = np.repeat([0], 300)\n",
    "    for j in range(n_runs):\n",
    "        rf_model = RandomForestRegressor(n_estimators=i, max_features=0.3333, min_samples_leaf=5)\n",
    "        rf_model.fit(X=x_train, y=y_train)\n",
    "        pred = rf_model.predict(x_test)\n",
    "        prediction = np.add(prediction, (1 / n_runs) * pred)\n",
    "    mse = 100*((y_test - prediction)**2).mean()\n",
    "    MSE_record[temp, 0] = i\n",
    "    MSE_record[temp, 1] = mse\n",
    "    temp += 1\n",
    "    print('{}: Finish problem number: {}'.format((time.asctime(time.localtime(time.time()))), temp))"
   ]
  },
  {
   "cell_type": "code",
   "execution_count": 135,
   "metadata": {},
   "outputs": [
    {
     "data": {
      "image/png": "[encoded data removed]",
      "text/plain": [
       "<Figure size 432x288 with 1 Axes>"
      ]
     },
     "metadata": {},
     "output_type": "display_data"
    }
   ],
   "source": [
    "#plot out the curve and find the optimal value\n",
    "fig = plt.figure()\n",
    "ax = plt.axes()\n",
    "plt.plot(MSE_record[:,0],MSE_record[:,1]);\n",
    "plt.title(\"MSE vs Estimator Numbers\")\n",
    "plt.xlabel(\"Estimator Numbers\")\n",
    "plt.ylabel(\"MSE\");"
   ]
  },
  {
   "cell_type": "code",
   "execution_count": 139,
   "metadata": {},
   "outputs": [],
   "source": [
    "#iterate through the parameter space of maximum features and keep a record of the MSEs\n",
    "MSE_record1 = np.zeros(shape=(14, 2))\n",
    "n_runs = 10\n",
    "temp = 0\n",
    "for i in np.arange(0.1, 0.8, 0.05):\n",
    "    prediction = np.repeat([0], 300)\n",
    "    for j in range(n_runs):\n",
    "        rf_model1 = RandomForestRegressor(n_estimators=200, max_features=i, min_samples_leaf=5)\n",
    "        rf_model1.fit(X=x_train1, y=y_train1)\n",
    "        pred = rf_model1.predict(x_test1)\n",
    "        prediction = np.add(prediction, (1 / n_runs) * pred)\n",
    "    mse = 100*((y_test - prediction)**2).mean()\n",
    "    MSE_record1[temp, 0] = i\n",
    "    MSE_record1[temp, 1] = mse\n",
    "    temp += 1"
   ]
  },
  {
   "cell_type": "code",
   "execution_count": 155,
   "metadata": {
    "scrolled": true
   },
   "outputs": [
    {
     "data": {
      "image/png": "[encoded data removed]",
      "text/plain": [
       "<Figure size 432x288 with 1 Axes>"
      ]
     },
     "metadata": {},
     "output_type": "display_data"
    }
   ],
   "source": [
    "#plot out the curve and find the optimal value\n",
    "fig = plt.figure()\n",
    "ax = plt.axes()\n",
    "plt.plot(MSE_record1[:,0],MSE_record1[:,1]);\n",
    "plt.title(\"MSE vs Max Features\")\n",
    "plt.xlabel(\"Max Features\")\n",
    "plt.ylabel(\"MSE\");"
   ]
  },
  {
   "cell_type": "code",
   "execution_count": 152,
   "metadata": {},
   "outputs": [
    {
     "name": "stdout",
     "output_type": "stream",
     "text": [
      "Thu Feb  6 21:38:59 2020: Finish problem number: 1\n",
      "Thu Feb  6 21:39:57 2020: Finish problem number: 2\n",
      "Thu Feb  6 21:40:53 2020: Finish problem number: 3\n",
      "Thu Feb  6 21:41:46 2020: Finish problem number: 4\n",
      "Thu Feb  6 21:42:38 2020: Finish problem number: 5\n",
      "Thu Feb  6 21:43:29 2020: Finish problem number: 6\n",
      "Thu Feb  6 21:44:19 2020: Finish problem number: 7\n",
      "Thu Feb  6 21:45:09 2020: Finish problem number: 8\n",
      "Thu Feb  6 21:45:58 2020: Finish problem number: 9\n",
      "Thu Feb  6 21:46:45 2020: Finish problem number: 10\n",
      "Thu Feb  6 21:47:31 2020: Finish problem number: 11\n",
      "Thu Feb  6 21:48:16 2020: Finish problem number: 12\n",
      "Thu Feb  6 21:49:01 2020: Finish problem number: 13\n",
      "Thu Feb  6 21:49:48 2020: Finish problem number: 14\n",
      "Thu Feb  6 21:50:34 2020: Finish problem number: 15\n",
      "Thu Feb  6 21:51:20 2020: Finish problem number: 16\n",
      "Thu Feb  6 21:52:05 2020: Finish problem number: 17\n"
     ]
    }
   ],
   "source": [
    "#iterate through the parameter space of minimum leaves and keep a record of the MSEs\n",
    "MSE_record2 = np.zeros(shape=(17, 2))\n",
    "n_runs = 50\n",
    "temp = 0\n",
    "for i in range(3, 20, 1):\n",
    "    prediction = np.repeat([0], 300)\n",
    "    for j in range(n_runs):\n",
    "        rf_model = RandomForestRegressor(n_estimators=600, max_features=0.3333, min_samples_leaf=i)\n",
    "        rf_model.fit(X=x_train, y=y_train)\n",
    "        pred = rf_model.predict(x_test)\n",
    "        prediction = np.add(prediction, (1 / n_runs) * pred)\n",
    "    mse = 100*((y_test - prediction)**2).mean()\n",
    "    MSE_record2[temp, 0] = i\n",
    "    MSE_record2[temp, 1] = mse\n",
    "    temp += 1\n",
    "    print('{}: Finish problem number: {}'.format((time.asctime(time.localtime(time.time()))), temp))"
   ]
  },
  {
   "cell_type": "code",
   "execution_count": 156,
   "metadata": {},
   "outputs": [
    {
     "data": {
      "image/png": "[encoded data removed]",
      "text/plain": [
       "<Figure size 432x288 with 1 Axes>"
      ]
     },
     "metadata": {},
     "output_type": "display_data"
    }
   ],
   "source": [
    "#plot out the curve and find the optimal value\n",
    "fig = plt.figure()\n",
    "ax = plt.axes()\n",
    "plt.plot(MSE_record2[:,0],MSE_record2[:,1]);\n",
    "plt.title(\"MSE vs Minimum Leaves\")\n",
    "plt.xlabel(\"Minimum Leaves\")\n",
    "plt.ylabel(\"MSE\");"
   ]
  },
  {
   "cell_type": "code",
   "execution_count": null,
   "metadata": {},
   "outputs": [],
   "source": [
    "#build the model with optimal hyper parameters\n",
    "for i in range(n_runs):\n",
    "    rf_model = RandomForestRegressor(n_estimators=600, max_features=0.3333, min_samples_leaf=3)\n",
    "    rf_model.fit(X=x_train, y=y_train)\n",
    "    pred = rf_model.predict(x_test)\n",
    "    prediction = np.add(prediction, (1 / n_runs) * pred)\n",
    "mse = 100*((y_test - prediction)**2).mean()"
   ]
  },
  {
   "cell_type": "code",
   "execution_count": 72,
   "metadata": {},
   "outputs": [
    {
     "data": {
      "text/plain": [
       "0.8924886387849283"
      ]
     },
     "execution_count": 72,
     "metadata": {},
     "output_type": "execute_result"
    }
   ],
   "source": [
    "#R^2 of the final model\n",
    "rf_model.score(x_test, y_test)"
   ]
  },
  {
   "cell_type": "code",
   "execution_count": 57,
   "metadata": {},
   "outputs": [
    {
     "name": "stdout",
     "output_type": "stream",
     "text": [
      "0.8147293812293817\n"
     ]
    }
   ],
   "source": [
    "#MSE*100 of the final model\n",
    "mse = 100*((y_test - prediction)**2).mean()\n",
    "print(mse)"
   ]
  }
 ],
 "metadata": {
  "kernelspec": {
   "display_name": "Python 3",
   "language": "python",
   "name": "python3"
  },
  "language_info": {
   "codemirror_mode": {
    "name": "ipython",
    "version": 3
   },
   "file_extension": ".py",
   "mimetype": "text/x-python",
   "name": "python",
   "nbconvert_exporter": "python",
   "pygments_lexer": "ipython3",
   "version": "3.7.4"
  }
 },
 "nbformat": 4,
 "nbformat_minor": 2
}
